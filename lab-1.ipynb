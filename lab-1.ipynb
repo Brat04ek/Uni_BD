{
 "cells": [
  {
   "cell_type": "code",
   "execution_count": 1,
   "metadata": {},
   "outputs": [],
   "source": [
    "from concurrent.futures import ThreadPoolExecutor\n",
    "import psycopg2\n",
    "import time\n",
    "from random import randint"
   ]
  },
  {
   "cell_type": "code",
   "execution_count": 2,
   "metadata": {},
   "outputs": [],
   "source": [
    "DB_PARAMS = \"dbname=lab-1 user=postgres host=localhost password=postgres\""
   ]
  },
  {
   "cell_type": "code",
   "execution_count": 3,
   "metadata": {},
   "outputs": [],
   "source": [
    "# conn = psycopg2.connect(DB_PARAMS)\n",
    "# cur = conn.cursor()\n",
    "\n",
    "# for _ in range(100_000):\n",
    "#     cur.execute(\"INSERT INTO user_counter(counter, version) VALUES(0, 0)\")\n",
    "    \n",
    "# conn.commit()\n",
    "# cur.close()\n",
    "# conn.close()"
   ]
  },
  {
   "cell_type": "code",
   "execution_count": 4,
   "metadata": {},
   "outputs": [
    {
     "name": "stdout",
     "output_type": "stream",
     "text": [
      "Кількість записів в базі даних = 100000\n"
     ]
    }
   ],
   "source": [
    "conn = psycopg2.connect(DB_PARAMS)\n",
    "cur = conn.cursor()\n",
    "\n",
    "cur.execute(\"SELECT COUNT(*) FROM user_counter\")\n",
    "values_count = cur.fetchone()[0]\n",
    "\n",
    "cur.close()\n",
    "conn.close()\n",
    "\n",
    "print(f\"Кількість записів в базі даних = {values_count}\")"
   ]
  },
  {
   "cell_type": "code",
   "execution_count": 5,
   "metadata": {},
   "outputs": [],
   "source": [
    "def setup_db():\n",
    "    conn = psycopg2.connect(DB_PARAMS)\n",
    "    cursor = conn.cursor()\n",
    "\n",
    "    cursor.execute(\"UPDATE user_counter SET counter = 0, version = 0\" )\n",
    "    conn.commit()\n",
    "    \n",
    "    cursor.close()\n",
    "    conn.close()"
   ]
  },
  {
   "cell_type": "code",
   "execution_count": 6,
   "metadata": {},
   "outputs": [],
   "source": [
    "def print_time_counter(update_counter, id):\n",
    "    start_time = time.time()\n",
    "    with ThreadPoolExecutor(max_workers=10) as executor:\n",
    "        executor.map(update_counter, [id for _ in range(10)])\n",
    "\n",
    "    print(\"--- %s seconds ---\" % (time.time() - start_time))\n",
    "\n",
    "    conn = psycopg2.connect(DB_PARAMS)\n",
    "    cur = conn.cursor()\n",
    "    cur.execute(\"SELECT counter FROM user_counter WHERE user_id = %s;\", (id,))\n",
    "    counter = cur.fetchone()[0]\n",
    "    print(f\"Кінцеве значення каунтера = {counter}, для user_id = {id}\")"
   ]
  },
  {
   "cell_type": "markdown",
   "metadata": {},
   "source": [
    "## Lost-update"
   ]
  },
  {
   "cell_type": "code",
   "execution_count": 7,
   "metadata": {},
   "outputs": [],
   "source": [
    "def lost_update(id):\n",
    "    \n",
    "    conn = psycopg2.connect(DB_PARAMS)\n",
    "    cur = conn.cursor()\n",
    "    \n",
    "    for _ in range(10_000):\n",
    "        cur.execute(\"SELECT counter FROM user_counter WHERE user_id = %s\", (id,))\n",
    "        counter = cur.fetchone()[0] \n",
    "        counter += 1  \n",
    "        \n",
    "        cur.execute(\"UPDATE user_counter SET counter = %s WHERE user_id = %s\", (counter, id))\n",
    "        conn.commit() \n",
    "\n",
    "    cur.close()\n",
    "    conn.close()"
   ]
  },
  {
   "cell_type": "code",
   "execution_count": 8,
   "metadata": {},
   "outputs": [
    {
     "name": "stdout",
     "output_type": "stream",
     "text": [
      "--- 34.10344958305359 seconds ---\n",
      "Кінцеве значення каунтера = 10855, для user_id = 1\n"
     ]
    }
   ],
   "source": [
    "setup_db()\n",
    "print_time_counter(lost_update, 1)"
   ]
  },
  {
   "cell_type": "code",
   "execution_count": 9,
   "metadata": {},
   "outputs": [
    {
     "name": "stdout",
     "output_type": "stream",
     "text": [
      "--- 35.10290336608887 seconds ---\n",
      "Кінцеве значення каунтера = 10962, для user_id = 57182\n"
     ]
    }
   ],
   "source": [
    "setup_db()\n",
    "print_time_counter(lost_update, randint(1, 100_000))"
   ]
  },
  {
   "cell_type": "markdown",
   "metadata": {},
   "source": [
    "## In-place update\n"
   ]
  },
  {
   "cell_type": "code",
   "execution_count": 10,
   "metadata": {},
   "outputs": [],
   "source": [
    "def in_place_update(id):\n",
    "   \n",
    "    conn = psycopg2.connect(DB_PARAMS)\n",
    "    cur = conn.cursor()\n",
    "    \n",
    "    for _ in range(10_000):        \n",
    "        cur.execute(\"UPDATE user_counter SET counter = counter + 1 WHERE user_id = %s\", (id,))\n",
    "        conn.commit() \n",
    "\n",
    "    cur.close()\n",
    "    conn.close()"
   ]
  },
  {
   "cell_type": "code",
   "execution_count": 11,
   "metadata": {},
   "outputs": [
    {
     "name": "stdout",
     "output_type": "stream",
     "text": [
      "--- 28.29792833328247 seconds ---\n",
      "Кінцеве значення каунтера = 100000, для user_id = 1\n"
     ]
    }
   ],
   "source": [
    "setup_db()\n",
    "print_time_counter(in_place_update, 1)"
   ]
  },
  {
   "cell_type": "code",
   "execution_count": 12,
   "metadata": {},
   "outputs": [
    {
     "name": "stdout",
     "output_type": "stream",
     "text": [
      "--- 29.10147476196289 seconds ---\n",
      "Кінцеве значення каунтера = 100000, для user_id = 62542\n"
     ]
    }
   ],
   "source": [
    "setup_db()\n",
    "print_time_counter(in_place_update, randint(1, 100_000))"
   ]
  },
  {
   "cell_type": "markdown",
   "metadata": {},
   "source": [
    "## Row-level locking"
   ]
  },
  {
   "cell_type": "code",
   "execution_count": 20,
   "metadata": {},
   "outputs": [],
   "source": [
    "\n",
    "\n",
    "def row_level_locking(id):\n",
    "    \n",
    "    conn = psycopg2.connect(DB_PARAMS)\n",
    "    cur = conn.cursor()\n",
    "    \n",
    "    for _ in range(10_000):\n",
    "        cur.execute(\"SELECT counter FROM user_counter WHERE user_id = %s FOR UPDATE\", (id,))\n",
    "        counter = cur.fetchone()[0] + 1\n",
    "      \n",
    "        cur.execute(\"UPDATE user_counter SET counter = %s WHERE user_id = %s\", (counter, id))\n",
    "\n",
    "        conn.commit() \n",
    "\n",
    "    cur.close()\n",
    "    conn.close()"
   ]
  },
  {
   "cell_type": "code",
   "execution_count": 24,
   "metadata": {},
   "outputs": [
    {
     "name": "stdout",
     "output_type": "stream",
     "text": [
      "--- 44.78932547569275 seconds ---\n",
      "Кінцеве значення каунтера = 100000, для user_id = 1\n"
     ]
    }
   ],
   "source": [
    "setup_db()\n",
    "print_time_counter(row_level_locking, 1)"
   ]
  },
  {
   "cell_type": "code",
   "execution_count": 25,
   "metadata": {},
   "outputs": [
    {
     "name": "stdout",
     "output_type": "stream",
     "text": [
      "--- 46.249706745147705 seconds ---\n",
      "Кінцеве значення каунтера = 100000, для user_id = 48279\n"
     ]
    }
   ],
   "source": [
    "setup_db()\n",
    "print_time_counter(row_level_locking, randint(1, 100_000))"
   ]
  },
  {
   "cell_type": "markdown",
   "metadata": {},
   "source": [
    "## Optimistic concurrency control"
   ]
  },
  {
   "cell_type": "code",
   "execution_count": 16,
   "metadata": {},
   "outputs": [],
   "source": [
    "\n",
    "def optimistic_concurrency_control(id):\n",
    "   \n",
    "    conn = psycopg2.connect(DB_PARAMS)\n",
    "    cur = conn.cursor()\n",
    "    \n",
    "    for _ in range(10_000):\n",
    "        while True:\n",
    "            cur.execute(\"SELECT counter, version FROM user_counter WHERE user_id = %s\", (id,))\n",
    "            counter, version =cur.fetchone()\n",
    "            counter += 1\n",
    "            cur.execute(\"update user_counter set counter = %s, version = %s where user_id = %s and version = %s\", (counter, version + 1, id, version))\n",
    "            conn.commit()\n",
    "            count = cur.rowcount\n",
    "            if count > 0:\n",
    "                break\n",
    "            \n",
    "        \n",
    "    cur.close()\n",
    "    conn.close()"
   ]
  },
  {
   "cell_type": "code",
   "execution_count": 26,
   "metadata": {},
   "outputs": [
    {
     "name": "stdout",
     "output_type": "stream",
     "text": [
      "--- 206.2631115913391 seconds ---\n",
      "Кінцеве значення каунтера = 100000, для user_id = 1\n"
     ]
    }
   ],
   "source": [
    "setup_db()\n",
    "print_time_counter(optimistic_concurrency_control, 1)"
   ]
  },
  {
   "cell_type": "code",
   "execution_count": 27,
   "metadata": {},
   "outputs": [
    {
     "name": "stdout",
     "output_type": "stream",
     "text": [
      "--- 207.2033429145813 seconds ---\n",
      "Кінцеве значення каунтера = 100000, для user_id = 99693\n"
     ]
    }
   ],
   "source": [
    "setup_db()\n",
    "print_time_counter(optimistic_concurrency_control, randint(1, 100_000))"
   ]
  }
 ],
 "metadata": {
  "kernelspec": {
   "display_name": "Python 3",
   "language": "python",
   "name": "python3"
  },
  "language_info": {
   "codemirror_mode": {
    "name": "ipython",
    "version": 3
   },
   "file_extension": ".py",
   "mimetype": "text/x-python",
   "name": "python",
   "nbconvert_exporter": "python",
   "pygments_lexer": "ipython3",
   "version": "3.10.7"
  }
 },
 "nbformat": 4,
 "nbformat_minor": 2
}
